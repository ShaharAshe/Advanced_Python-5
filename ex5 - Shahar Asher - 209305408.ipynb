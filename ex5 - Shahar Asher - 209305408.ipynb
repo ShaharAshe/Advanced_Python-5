{
 "cells": [
  {
   "cell_type": "markdown",
   "metadata": {},
   "source": [
    "# <span style=\"color:red\">**exercise 4**</span>\n",
    "---"
   ]
  },
  {
   "cell_type": "markdown",
   "metadata": {},
   "source": [
    "### submited by:\n",
    "- Name: Shahar Asher\n",
    "- Id: 209305408\n",
    "- Email adress: shaharas@edu.hac.ac.il\n",
    "- Date: 12/05/2024\n",
    "\n",
    "### Operation system: Windows 11\n",
    "### Python version: 3.11.5 (Using anaconda)\n",
    "### IDE: Visual Studio Code\n",
    "### libraries: typing, numpy, pillow (PIL)\n",
    "---"
   ]
  },
  {
   "cell_type": "code",
   "execution_count": 12,
   "metadata": {},
   "outputs": [],
   "source": [
    "# imports\n",
    "\n",
    "from typing import Final\n",
    "import re\n",
    "import time\n",
    "import inspect\n",
    "from functools import wraps\n",
    "from contextlib import ContextDecorator"
   ]
  },
  {
   "cell_type": "markdown",
   "metadata": {},
   "source": [
    "# Q.1\n"
   ]
  },
  {
   "cell_type": "code",
   "execution_count": 13,
   "metadata": {},
   "outputs": [],
   "source": [
    "# global variables\n",
    "PROFILE:bool = True\n",
    "HEADER_PRINTER:bool = False"
   ]
  },
  {
   "cell_type": "code",
   "execution_count": 14,
   "metadata": {},
   "outputs": [],
   "source": [
    "def profile_decorator(func: callable) -> callable:\n",
    "    # Initialize a counter for function calls\n",
    "    func._call_count = 0\n",
    "\n",
    "    @wraps(func)\n",
    "    def wrapper(*args, **kwargs) -> callable:\n",
    "        global HEADER_PRINTER\n",
    "        \n",
    "        if not PROFILE:\n",
    "            return func(*args, **kwargs)\n",
    "\n",
    "        # Increment the function call counter\n",
    "        func._call_count += 1\n",
    "\n",
    "        # Get the frame information of the caller\n",
    "        frame: Final[object] = inspect.currentframe().f_back\n",
    "        filename: Final[str] = frame.f_code.co_filename\n",
    "        filename = re.search(r\"(\\w+.py)\", filename)\n",
    "        filename = filename.group()\n",
    "        lineno: Final[int] = frame.f_lineno\n",
    "\n",
    "        # Start measuring CPU and wall time\n",
    "        start_cpu: Final[float] = time.process_time_ns()\n",
    "        start_wall: Final[float] = time.perf_counter_ns()\n",
    "\n",
    "        # Execute the function\n",
    "        result = func(*args, **kwargs)\n",
    "\n",
    "        # Stop measuring CPU and wall time\n",
    "        end_cpu: Final[float] = time.process_time_ns()\n",
    "        end_wall: Final[float] = time.perf_counter_ns()\n",
    "\n",
    "        # Calculate the elapsed times\n",
    "        cpu_time: Final[float] = (end_cpu - start_cpu) / 1e9  # Convert nanoseconds to seconds\n",
    "        wall_time: Final[float] = (end_wall - start_wall) / 1e9  # Convert nanoseconds to seconds\n",
    "\n",
    "        # Log the details in table format\n",
    "        if not HEADER_PRINTER:\n",
    "            print(f\"{'Function name':<15} {'filename':<15} {'line':<5} {'count':<5} {'cpu':<10} {'wall':<10}\")\n",
    "            HEADER_PRINTER = True\n",
    "\n",
    "        print(f\"{func.__name__:<15} {filename:<15} {lineno:<5} {func._call_count:<5} {cpu_time:<10.6f} {wall_time:<10.5f}\")\n",
    "\n",
    "        return result\n",
    "\n",
    "    return wrapper"
   ]
  },
  {
   "cell_type": "code",
   "execution_count": 15,
   "metadata": {},
   "outputs": [],
   "source": [
    "@profile_decorator\n",
    "def func1():\n",
    "    total:int = 0\n",
    "    for _ in range(1000000):\n",
    "        total += sum(i * i for i in range(100))\n",
    "\n",
    "\n",
    "@profile_decorator\n",
    "def func2():\n",
    "    total:int = 0\n",
    "    for _ in range(1000000):\n",
    "        total += sum(i * i for i in range(100))"
   ]
  },
  {
   "cell_type": "code",
   "execution_count": 16,
   "metadata": {},
   "outputs": [
    {
     "name": "stdout",
     "output_type": "stream",
     "text": [
      "Function name   filename        line  count cpu        wall      \n",
      "func1           2948867115.py   2     1     3.875000   4.71608   \n",
      "func1           2948867115.py   3     2     3.843750   4.80118   \n",
      "func1           2948867115.py   4     3     4.468750   5.16818   \n",
      "func2           2948867115.py   7     1     4.375000   4.86140   \n",
      "func2           2948867115.py   8     2     4.515625   4.75220   \n"
     ]
    }
   ],
   "source": [
    "# call to func1\n",
    "func1()\n",
    "func1()\n",
    "func1()\n",
    "\n",
    "# call to func2\n",
    "func2()\n",
    "func2()"
   ]
  },
  {
   "cell_type": "markdown",
   "metadata": {},
   "source": [
    "---\n",
    "# Q.2\n"
   ]
  },
  {
   "cell_type": "code",
   "execution_count": 17,
   "metadata": {},
   "outputs": [],
   "source": [
    "# global variables\n",
    "PROFILE:bool = True\n",
    "HEADER_PRINTER:bool = False"
   ]
  },
  {
   "cell_type": "code",
   "execution_count": 18,
   "metadata": {},
   "outputs": [],
   "source": [
    "class ProfileBlock(ContextDecorator):\n",
    "    def __init__(self, func_name=\"ProfileBlock\"):\n",
    "        self.func_name = func_name\n",
    "\n",
    "    def __enter__(self):\n",
    "        global HEADER_PRINTER\n",
    "\n",
    "        if not PROFILE:\n",
    "            return self\n",
    "\n",
    "        # Get the frame information of the caller\n",
    "        self.frame = inspect.currentframe().f_back\n",
    "        self.filename = self.frame.f_code.co_filename\n",
    "        self.filename = re.search(r\"(\\w+.py)\", self.filename)\n",
    "        self.filename = self.filename.group()\n",
    "        self.lineno = self.frame.f_lineno\n",
    "\n",
    "        # Start measuring CPU and wall time\n",
    "        self.start_cpu = time.process_time()\n",
    "        self.start_wall = time.perf_counter()\n",
    "\n",
    "        # Initialize call count\n",
    "        if not hasattr(self, 'call_count'):\n",
    "            self.call_count = 0\n",
    "\n",
    "        return self\n",
    "\n",
    "    def __exit__(self, exc_type, exc_value, traceback):\n",
    "        if not PROFILE:\n",
    "            return\n",
    "\n",
    "        # Stop measuring CPU and wall time\n",
    "        end_cpu = time.process_time()\n",
    "        end_wall = time.perf_counter()\n",
    "\n",
    "        # Calculate the elapsed times\n",
    "        cpu_time = end_cpu - self.start_cpu\n",
    "        wall_time = end_wall - self.start_wall\n",
    "\n",
    "        # Increment the call count\n",
    "        self.call_count += 1\n",
    "\n",
    "        # Print the header if not already printed\n",
    "        global HEADER_PRINTER\n",
    "        if not HEADER_PRINTER:\n",
    "            print(f\"{'Function name':<15} {'filename':<15} {'line':<5} {'count':<5} {'cpu':<10} {'wall':<10}\")\n",
    "            HEADER_PRINTER = True\n",
    "\n",
    "        # Log the details in table format\n",
    "        print(f\"{self.func_name:<15} {self.filename:<15} {self.lineno:<5} {self.call_count:<5} {cpu_time:<10.6f} {wall_time:<10.5f}\")"
   ]
  },
  {
   "cell_type": "markdown",
   "metadata": {},
   "source": [
    "---\n"
   ]
  },
  {
   "cell_type": "code",
   "execution_count": 19,
   "metadata": {},
   "outputs": [],
   "source": [
    "def func1():\n",
    "    with ProfileBlock(\"func1\"):\n",
    "        total = 0\n",
    "        for _ in range(1000000):\n",
    "            total += sum(i * i for i in range(100))\n",
    "\n",
    "\n",
    "def func2():\n",
    "    with ProfileBlock(\"func2\"):\n",
    "        total = 0\n",
    "        for _ in range(1000000):\n",
    "            total += sum(i * i for i in range(100))"
   ]
  },
  {
   "cell_type": "code",
   "execution_count": 20,
   "metadata": {},
   "outputs": [
    {
     "name": "stdout",
     "output_type": "stream",
     "text": [
      "Function name   filename        line  count cpu        wall      \n",
      "func1           2138028358.py   2     1     4.328125   4.75827   \n",
      "func1           2138028358.py   2     1     4.343750   4.73912   \n",
      "func1           2138028358.py   2     1     3.937500   4.92149   \n",
      "func2           2138028358.py   9     1     4.453125   4.96955   \n",
      "func2           2138028358.py   9     1     4.156250   5.28505   \n",
      "main block      1638514948.py   1     1     21.218750  24.67421  \n"
     ]
    }
   ],
   "source": [
    "with ProfileBlock(\"main block\"):\n",
    "    # call to func1\n",
    "    func1()\n",
    "    func1()\n",
    "    func1()\n",
    "\n",
    "    # call to func2\n",
    "    func2()\n",
    "    func2()"
   ]
  }
 ],
 "metadata": {
  "kernelspec": {
   "display_name": "base",
   "language": "python",
   "name": "python3"
  },
  "language_info": {
   "codemirror_mode": {
    "name": "ipython",
    "version": 3
   },
   "file_extension": ".py",
   "mimetype": "text/x-python",
   "name": "python",
   "nbconvert_exporter": "python",
   "pygments_lexer": "ipython3",
   "version": "3.11.5"
  }
 },
 "nbformat": 4,
 "nbformat_minor": 2
}

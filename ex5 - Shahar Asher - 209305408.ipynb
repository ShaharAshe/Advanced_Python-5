{
 "cells": [
  {
   "cell_type": "markdown",
   "metadata": {},
   "source": [
    "# <span style=\"color:red\">**exercise 5**</span>\n",
    "---"
   ]
  },
  {
   "cell_type": "markdown",
   "metadata": {},
   "source": [
    "### submited by:\n",
    "- Name: Shahar Asher\n",
    "- Id: 209305408\n",
    "- Email adress: shaharas@edu.hac.ac.il\n",
    "- Date: 16/05/2024\n",
    "\n",
    "### Operation system: Windows 11\n",
    "### Python version: 3.11.5 (Using anaconda)\n",
    "### IDE: Visual Studio Code\n",
    "### libraries: typing, re, time, inspect, functools, contextlib\n",
    "---"
   ]
  },
  {
   "cell_type": "code",
   "execution_count": 19,
   "metadata": {},
   "outputs": [],
   "source": [
    "# imports\n",
    "\n",
    "from typing import Final\n",
    "import re\n",
    "import time\n",
    "import inspect\n",
    "from functools import wraps\n",
    "from contextlib import ContextDecorator"
   ]
  },
  {
   "cell_type": "markdown",
   "metadata": {},
   "source": [
    "# Q.1\n",
    "\n",
    "Write a decorator that measures a function's wall and CPU consumption (You may use `perf_counter` and `process_counter`).\n",
    "- The decorator should output to a standard output or to a log file.\n",
    "- The output must include the following data:\n",
    "- The function name\n",
    "- File-name and line-number where the function is being called (Hint: use the `inspect` module).\n",
    "- A counter counting the function calls\n",
    "- The CPU time consumed at each function call (time resolution 1μs (1E-6) seconds)\n",
    "- The wall time (time resolution 10μs (1E-5) seconds)\n",
    "For example, if the function `func1` is being called 3 times and `func2` once (both functions decorated with your decorator), one may get:\n",
    "```\n",
    "Function name  filename    line  count  cpu        wall\n",
    "func1          mymod.py    4     1      0.123456   0.123721\n",
    "func1          mymod.py    8     2      0.027010   0.030002\n",
    "func2          mymod.py    6     1      1.301104   0.056213\n",
    "func1          mymod.py    4     3      0.117010   0.110002\n",
    "```\n",
    "- Make the log output switchable by a global variable `PROFILE`."
   ]
  },
  {
   "cell_type": "markdown",
   "metadata": {},
   "source": [
    "---\n",
    "Global variables to control profiling and header printing.\n",
    "\n",
    "- `PROFILE`: A boolean to enable or disable profiling.\n",
    "- `HEADER_PRINTER`: A boolean to control the printing of the header."
   ]
  },
  {
   "cell_type": "code",
   "execution_count": 20,
   "metadata": {},
   "outputs": [],
   "source": [
    "# global variables\n",
    "PROFILE:bool = True\n",
    "HEADER_PRINTER:bool = False"
   ]
  },
  {
   "cell_type": "code",
   "execution_count": 21,
   "metadata": {},
   "outputs": [],
   "source": [
    "def profile_decorator(func:callable) -> callable:\n",
    "    \"\"\"\n",
    "    A decorator that profiles the execution time of the decorated function.\n",
    "    \n",
    "    Parameters:\n",
    "    func (callable): The function to be decorated.\n",
    "\n",
    "    Returns:\n",
    "    callable: The wrapped function with profiling.\n",
    "    \"\"\"\n",
    "    # Initialize a counter for function calls\n",
    "    func._call_count = 0\n",
    "\n",
    "    @wraps(func)\n",
    "    def wrapper(*args, **kwargs) -> callable:\n",
    "        \"\"\"\n",
    "        Wrapper function that performs profiling.\n",
    "\n",
    "        Parameters:\n",
    "        *args: Variable length argument list.\n",
    "        **kwargs: Arbitrary keyword arguments.\n",
    "\n",
    "        Returns:\n",
    "        callable: The result of the wrapped function.\n",
    "        \"\"\"\n",
    "        global HEADER_PRINTER\n",
    "        \n",
    "        if not PROFILE:\n",
    "            return func(*args, **kwargs)\n",
    "\n",
    "        # Increment the function call counter\n",
    "        func._call_count += 1\n",
    "\n",
    "        # Get the frame information of the caller\n",
    "        frame:Final[object] = inspect.currentframe().f_back\n",
    "        filename:str = frame.f_code.co_filename\n",
    "        filename = re.search(r\"(\\w+.py)\", filename)\n",
    "        filename = filename.group()\n",
    "        lineno:Final[int] = frame.f_lineno\n",
    "\n",
    "        # Start measuring CPU and wall time\n",
    "        start_cpu:Final[float] = time.process_time_ns()\n",
    "        start_wall:Final[float] = time.perf_counter_ns()\n",
    "\n",
    "        # Execute the function\n",
    "        result = func(*args, **kwargs)\n",
    "\n",
    "        # Stop measuring CPU and wall time\n",
    "        end_cpu:Final[float] = time.process_time_ns()\n",
    "        end_wall:Final[float] = time.perf_counter_ns()\n",
    "\n",
    "        # Calculate the elapsed times\n",
    "        cpu_time:Final[float] = (end_cpu - start_cpu) / 1e9  # Convert nanoseconds to seconds\n",
    "        wall_time:Final[float] = (end_wall - start_wall) / 1e9  # Convert nanoseconds to seconds\n",
    "\n",
    "        # Log the details in table format\n",
    "        if not HEADER_PRINTER:\n",
    "            print(f\"{'Function name':<15} {'filename':<15} {'line':<5} {'count':<5} {'cpu':<10} {'wall':<10}\")\n",
    "            HEADER_PRINTER = True\n",
    "\n",
    "        print(f\"{func.__name__:<15} {filename:<15} {lineno:<5} {func._call_count:<5} {cpu_time:<10.6f} {wall_time:<10.5f}\")\n",
    "\n",
    "        return result\n",
    "\n",
    "    return wrapper"
   ]
  },
  {
   "cell_type": "markdown",
   "metadata": {},
   "source": [
    "Define two sample functions `func1` and `func2` to demonstrate the profiling decorator.\n",
    "\n",
    "- `func1`: A computation-intensive function to demonstrate profiling.\n",
    "- `func2`: Another computation-intensive function to demonstrate profiling."
   ]
  },
  {
   "cell_type": "code",
   "execution_count": 22,
   "metadata": {},
   "outputs": [],
   "source": [
    "@profile_decorator\n",
    "def func1() -> None:\n",
    "    \"\"\"\n",
    "    A sample function to demonstrate profiling. \n",
    "    It performs a computation-intensive task.\n",
    "    \"\"\"\n",
    "    total:int = 0\n",
    "    for _ in range(1000000):\n",
    "        total += sum(i * i for i in range(100))\n",
    "\n",
    "\n",
    "@profile_decorator\n",
    "def func2() -> None:\n",
    "    \"\"\"\n",
    "    Another sample function to demonstrate profiling. \n",
    "    It performs a computation-intensive task.\n",
    "    \"\"\"\n",
    "    total:int = 0\n",
    "    for _ in range(1000000):\n",
    "        total += sum(i * i for i in range(100))"
   ]
  },
  {
   "cell_type": "markdown",
   "metadata": {},
   "source": [
    "Call the functions to observe the profiling output.\n",
    "\n",
    "- Call `func1` three times.\n",
    "- Call `func2` twice."
   ]
  },
  {
   "cell_type": "code",
   "execution_count": 23,
   "metadata": {},
   "outputs": [
    {
     "name": "stdout",
     "output_type": "stream",
     "text": [
      "Function name   filename        line  count cpu        wall      \n",
      "func1           2948867115.py   2     1     5.125000   6.89332   \n",
      "func1           2948867115.py   3     2     4.437500   9.47010   \n",
      "func1           2948867115.py   4     3     4.687500   9.41312   \n",
      "func2           2948867115.py   7     1     4.531250   8.70295   \n",
      "func2           2948867115.py   8     2     5.203125   6.23485   \n"
     ]
    }
   ],
   "source": [
    "# call to func1\n",
    "func1()\n",
    "func1()\n",
    "func1()\n",
    "\n",
    "# call to func2\n",
    "func2()\n",
    "func2()"
   ]
  },
  {
   "cell_type": "markdown",
   "metadata": {},
   "source": [
    "---\n",
    "# Q.2\n",
    "\n",
    "Make a context manager that does the same thing.\n",
    "\n",
    "The idea here is to profile a block of code inside a function or a script's main body."
   ]
  },
  {
   "cell_type": "markdown",
   "metadata": {},
   "source": [
    "---\n",
    "Define a `ProfileBlock` class that acts as both a context manager and a decorator for profiling blocks of code or functions.\n",
    "\n",
    "- `ProfileBlock`: A context manager and decorator class for profiling blocks of code or functions.\n",
    "- `func_name`: The name of the function or block being profiled."
   ]
  },
  {
   "cell_type": "code",
   "execution_count": 24,
   "metadata": {},
   "outputs": [],
   "source": [
    "# global variables\n",
    "PROFILE:bool = True\n",
    "HEADER_PRINTER:bool = False"
   ]
  },
  {
   "cell_type": "code",
   "execution_count": 25,
   "metadata": {},
   "outputs": [],
   "source": [
    "class ProfileBlock(ContextDecorator):\n",
    "    \"\"\"\n",
    "    A context manager and decorator class for profiling blocks of code or functions.\n",
    "    \n",
    "    Attributes:\n",
    "    func_name (str): The name of the function or block being profiled.\n",
    "    \"\"\"\n",
    "\n",
    "    def __init__(self, func_name:str=\"ProfileBlock\") -> None:\n",
    "        \"\"\"\n",
    "        Initializes the ProfileBlock with a function or block name.\n",
    "\n",
    "        Parameters:\n",
    "        func_name (str): The name of the function or block being profiled.\n",
    "        \"\"\"\n",
    "        self.func_name:str = func_name\n",
    "\n",
    "\n",
    "    def __enter__(self) -> object:\n",
    "        \"\"\"\n",
    "        Enters the runtime context for profiling.\n",
    "        \n",
    "        Returns:\n",
    "        self: The context manager instance.\n",
    "        \"\"\"\n",
    "        global HEADER_PRINTER\n",
    "\n",
    "        if not PROFILE:\n",
    "            return self\n",
    "\n",
    "        # Get the frame information of the caller\n",
    "        self.frame:object = inspect.currentframe().f_back\n",
    "        self.filename:str = self.frame.f_code.co_filename\n",
    "        self.filename = re.search(r\"(\\w+.py)\", self.filename)\n",
    "        self.filename = self.filename.group()\n",
    "        self.lineno:int = self.frame.f_lineno\n",
    "\n",
    "        # Start measuring CPU and wall time\n",
    "        self.start_cpu:float = time.process_time()\n",
    "        self.start_wall:float = time.perf_counter()\n",
    "\n",
    "        # Initialize call count\n",
    "        if not hasattr(self, 'call_count'):\n",
    "            self.call_count:int = 0\n",
    "\n",
    "        return self\n",
    "    \n",
    "    \n",
    "    def __exit__(self, exc_type:object, exc_value:object, traceback:object) -> None:\n",
    "        \"\"\"\n",
    "        Exits the runtime context and logs the profiling information.\n",
    "\n",
    "        Parameters:\n",
    "        exc_type (type): The exception type, if an exception occurred.\n",
    "        exc_value (Exception): The exception instance, if an exception occurred.\n",
    "        traceback (traceback): The traceback object, if an exception occurred.\n",
    "        \"\"\"\n",
    "        if not PROFILE:\n",
    "            return\n",
    "\n",
    "        # Stop measuring CPU and wall time\n",
    "        end_cpu:float = time.process_time()\n",
    "        end_wall:float = time.perf_counter()\n",
    "\n",
    "        # Calculate the elapsed times\n",
    "        cpu_time:float = end_cpu - self.start_cpu\n",
    "        wall_time:float = end_wall - self.start_wall\n",
    "\n",
    "        # Increment the call count\n",
    "        self.call_count += 1\n",
    "\n",
    "        # Print the header if not already printed\n",
    "        global HEADER_PRINTER\n",
    "        if not HEADER_PRINTER:\n",
    "            print(f\"{'Function name':<15} {'filename':<15} {'line':<5} {'count':<5} {'cpu':<10} {'wall':<10}\")\n",
    "            HEADER_PRINTER = True\n",
    "\n",
    "        # Log the details in table format\n",
    "        print(f\"{self.func_name:<15} {self.filename:<15} {self.lineno:<5} {self.call_count:<5} {cpu_time:<10.6f} {wall_time:<10.5f}\")"
   ]
  },
  {
   "cell_type": "markdown",
   "metadata": {},
   "source": [
    "Define two sample functions `func1` and `func2` to demonstrate the profiling context manager.\n",
    "\n",
    "- `func1`: A computation-intensive function to demonstrate profiling using `ProfileBlock`.\n",
    "- `func2`: Another computation-intensive function to demonstrate profiling using `ProfileBlock`."
   ]
  },
  {
   "cell_type": "code",
   "execution_count": 26,
   "metadata": {},
   "outputs": [],
   "source": [
    "def func1() -> None:\n",
    "    \"\"\"\n",
    "    A sample function to demonstrate profiling using ProfileBlock context manager. \n",
    "    It performs a computation-intensive task.\n",
    "    \"\"\"\n",
    "    with ProfileBlock(\"func1\"):\n",
    "        total:int = 0\n",
    "        for _ in range(1000000):\n",
    "            total += sum(i * i for i in range(100))\n",
    "\n",
    "\n",
    "def func2() -> None:\n",
    "    \"\"\"\n",
    "    Another sample function to demonstrate profiling using ProfileBlock context manager. \n",
    "    It performs a computation-intensive task.\n",
    "    \"\"\"\n",
    "    with ProfileBlock(\"func2\"):\n",
    "        total:int = 0\n",
    "        for _ in range(1000000):\n",
    "            total += sum(i * i for i in range(100))"
   ]
  },
  {
   "cell_type": "markdown",
   "metadata": {},
   "source": [
    "Use the `ProfileBlock` context manager to profile a main block of code.\n",
    "\n",
    "- Call `func1` three times.\n",
    "- Call `func2` twice."
   ]
  },
  {
   "cell_type": "code",
   "execution_count": 27,
   "metadata": {},
   "outputs": [
    {
     "name": "stdout",
     "output_type": "stream",
     "text": [
      "Function name   filename        line  count cpu        wall      \n",
      "func1           2318137732.py   6     1     5.265625   6.82142   \n",
      "func1           2318137732.py   6     1     4.781250   7.36649   \n",
      "func1           2318137732.py   6     1     5.656250   6.56779   \n",
      "func2           2318137732.py   17    1     5.296875   5.88050   \n",
      "func2           2318137732.py   17    1     5.312500   5.83010   \n",
      "main block      708578946.py    1     1     26.343750  32.46745  \n"
     ]
    }
   ],
   "source": [
    "with ProfileBlock(\"main block\"):\n",
    "    \"\"\"\n",
    "    Main block of code demonstrating profiling using ProfileBlock context manager.\n",
    "    \"\"\"\n",
    "    # call to func1\n",
    "    func1()\n",
    "    func1()\n",
    "    func1()\n",
    "\n",
    "    # call to func2\n",
    "    func2()\n",
    "    func2()"
   ]
  }
 ],
 "metadata": {
  "kernelspec": {
   "display_name": "base",
   "language": "python",
   "name": "python3"
  },
  "language_info": {
   "codemirror_mode": {
    "name": "ipython",
    "version": 3
   },
   "file_extension": ".py",
   "mimetype": "text/x-python",
   "name": "python",
   "nbconvert_exporter": "python",
   "pygments_lexer": "ipython3",
   "version": "3.11.5"
  }
 },
 "nbformat": 4,
 "nbformat_minor": 2
}
